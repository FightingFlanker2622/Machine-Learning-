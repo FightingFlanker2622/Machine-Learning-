{
 "cells": [
  {
   "metadata": {},
   "cell_type": "markdown",
   "source": "# production level codes",
   "id": "f37aeee7c41882fd"
  },
  {
   "metadata": {
    "ExecuteTime": {
     "end_time": "2025-08-16T14:24:02.678765Z",
     "start_time": "2025-08-16T14:23:58.696361Z"
    }
   },
   "cell_type": "code",
   "source": [
    "import pandas as pd\n",
    "import numpy as np\n",
    "import matplotlib.pyplot as plt\n",
    "from sklearn.tree import DecisionTreeRegressor"
   ],
   "id": "dca66b4788ec0c0d",
   "outputs": [],
   "execution_count": 1
  },
  {
   "metadata": {
    "ExecuteTime": {
     "end_time": "2025-08-16T14:53:26.829107Z",
     "start_time": "2025-08-16T14:53:26.800829Z"
    }
   },
   "cell_type": "code",
   "source": "nums=[1,2,3,4]",
   "id": "21b033dc68a022a7",
   "outputs": [],
   "execution_count": 2
  },
  {
   "metadata": {
    "ExecuteTime": {
     "end_time": "2025-08-16T14:53:40.395323Z",
     "start_time": "2025-08-16T14:53:40.382947Z"
    }
   },
   "cell_type": "code",
   "source": "lisy1=nums",
   "id": "1ac408e93d7226d7",
   "outputs": [],
   "execution_count": 3
  },
  {
   "metadata": {
    "ExecuteTime": {
     "end_time": "2025-08-16T14:59:20.247217Z",
     "start_time": "2025-08-16T14:59:20.227694Z"
    }
   },
   "cell_type": "code",
   "source": [
    "lisy1\n",
    "lisy1.append(5)"
   ],
   "id": "4459adedb52d8891",
   "outputs": [],
   "execution_count": 5
  },
  {
   "metadata": {
    "ExecuteTime": {
     "end_time": "2025-08-16T14:59:22.212751Z",
     "start_time": "2025-08-16T14:59:22.201398Z"
    }
   },
   "cell_type": "code",
   "source": "nums=lisy1",
   "id": "4f23b80ab2ae3ee0",
   "outputs": [],
   "execution_count": 6
  },
  {
   "metadata": {
    "ExecuteTime": {
     "end_time": "2025-08-16T14:59:26.382331Z",
     "start_time": "2025-08-16T14:59:26.370670Z"
    }
   },
   "cell_type": "code",
   "source": "nums",
   "id": "5c5ebdeb76582e2d",
   "outputs": [
    {
     "data": {
      "text/plain": [
       "[1, 2, 3, 4, 5]"
      ]
     },
     "execution_count": 7,
     "metadata": {},
     "output_type": "execute_result"
    }
   ],
   "execution_count": 7
  },
  {
   "metadata": {},
   "cell_type": "code",
   "outputs": [],
   "execution_count": null,
   "source": "",
   "id": "f0efe0c7349c3711"
  }
 ],
 "metadata": {
  "kernelspec": {
   "display_name": "Python 3",
   "language": "python",
   "name": "python3"
  },
  "language_info": {
   "codemirror_mode": {
    "name": "ipython",
    "version": 2
   },
   "file_extension": ".py",
   "mimetype": "text/x-python",
   "name": "python",
   "nbconvert_exporter": "python",
   "pygments_lexer": "ipython2",
   "version": "2.7.6"
  }
 },
 "nbformat": 4,
 "nbformat_minor": 5
}
