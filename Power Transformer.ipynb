{
 "cells": [
  {
   "metadata": {},
   "cell_type": "markdown",
   "source": "# Power Transformer",
   "id": "41f8ea969b90718c"
  },
  {
   "metadata": {},
   "cell_type": "markdown",
   "source": "# Box-Cox transformation",
   "id": "a6e08279f36c62b6"
  },
  {
   "metadata": {},
   "cell_type": "code",
   "outputs": [],
   "execution_count": null,
   "source": "",
   "id": "b95fa47d5bbe4c0"
  }
 ],
 "metadata": {
  "kernelspec": {
   "display_name": "Python 3",
   "language": "python",
   "name": "python3"
  },
  "language_info": {
   "codemirror_mode": {
    "name": "ipython",
    "version": 2
   },
   "file_extension": ".py",
   "mimetype": "text/x-python",
   "name": "python",
   "nbconvert_exporter": "python",
   "pygments_lexer": "ipython2",
   "version": "2.7.6"
  }
 },
 "nbformat": 4,
 "nbformat_minor": 5
}
