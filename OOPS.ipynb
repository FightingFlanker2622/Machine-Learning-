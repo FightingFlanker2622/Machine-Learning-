{
 "cells": [
  {
   "metadata": {},
   "cell_type": "markdown",
   "source": [
    "Creating a class\n",
    "classes help us group all logic/functions/main snippets together\n",
    "\n",
    "    ->methods are functions inside a class\n",
    "\n",
    "    ->attributes are variables inside a class\n",
    "\n",
    "    ->instance of a class is an object\n",
    "\n",
    "pass keyword just helps as a buffer to pass the value in an empty class\n",
    "\n",
    "\n",
    "    A Clas is a blueprint for an object"
   ],
   "id": "aa86322613feeaa2"
  },
  {
   "metadata": {
    "ExecuteTime": {
     "end_time": "2025-08-05T14:09:40.468364Z",
     "start_time": "2025-08-05T14:09:40.454581Z"
    }
   },
   "cell_type": "code",
   "source": [
    "class Employee:\n",
    "    pass"
   ],
   "id": "4ba96b9795166e8d",
   "outputs": [],
   "execution_count": 2
  },
  {
   "metadata": {
    "ExecuteTime": {
     "end_time": "2025-08-05T14:09:41.233477Z",
     "start_time": "2025-08-05T14:09:41.219790Z"
    }
   },
   "cell_type": "code",
   "source": [
    "# creating instances of employee class\n",
    "emp1 = Employee()\n",
    "emp2 = Employee()\n",
    "'''\n",
    "these are instances of the employee class\n",
    "they are unique in nature\n",
    "'''"
   ],
   "id": "2214ab1f2bd7850e",
   "outputs": [
    {
     "data": {
      "text/plain": [
       "'\\nthese are instances of the employee class\\nthey are unique in nature\\n'"
      ]
     },
     "execution_count": 3,
     "metadata": {},
     "output_type": "execute_result"
    }
   ],
   "execution_count": 3
  },
  {
   "metadata": {
    "ExecuteTime": {
     "end_time": "2025-08-05T14:09:41.436358Z",
     "start_time": "2025-08-05T14:09:41.424300Z"
    }
   },
   "cell_type": "code",
   "source": [
    "# proof they are unique\n",
    "print(emp1)\n",
    "print(emp2)"
   ],
   "id": "e5c7f236608fc37e",
   "outputs": [
    {
     "name": "stdout",
     "output_type": "stream",
     "text": [
      "<__main__.Employee object at 0x000002BAB9DD7C10>\n",
      "<__main__.Employee object at 0x000002BAB9DD7010>\n"
     ]
    }
   ],
   "execution_count": 4
  },
  {
   "metadata": {
    "ExecuteTime": {
     "end_time": "2025-08-05T14:09:52.546760Z",
     "start_time": "2025-08-05T14:09:52.535968Z"
    }
   },
   "cell_type": "code",
   "source": [
    "# creating the attributes with the instances\n",
    "emp1.first_name = \"John\""
   ],
   "id": "d1ada069e96dadcd",
   "outputs": [],
   "execution_count": 6
  },
  {
   "metadata": {
    "ExecuteTime": {
     "end_time": "2025-08-05T14:14:56.654473Z",
     "start_time": "2025-08-05T14:14:56.640004Z"
    }
   },
   "cell_type": "code",
   "source": [
    "# __init__ is a special method that is called when a new instance of a class is created also known as dunder methods\n",
    "# it basically automatically runs when a new instance is created\n",
    "class Employee:\n",
    "    def __init__(self,first,last,pay):\n",
    "        self.first=first\n",
    "        self.last=last\n",
    "        self.pay=pay\n",
    "        self.email=first+\".\"+last+\"@company.com\"\n",
    "\n",
    "emp1 = Employee(\"John\",\"Doe\",50000)\n",
    "emp2 = Employee(\"Jane\",\"Doe\",60000)\n",
    "print(emp1.email)\n",
    "print(emp2.email)\n",
    "\n",
    "# self is a reference to the current instance of the class\n",
    "# it acts as a placeholder for the instance"
   ],
   "id": "34f7a904beab44f8",
   "outputs": [
    {
     "name": "stdout",
     "output_type": "stream",
     "text": [
      "John.Doe@company.com\n",
      "Jane.Doe@company.com\n"
     ]
    }
   ],
   "execution_count": 7
  },
  {
   "metadata": {
    "ExecuteTime": {
     "end_time": "2025-08-05T14:43:47.562558Z",
     "start_time": "2025-08-05T14:43:47.548349Z"
    }
   },
   "cell_type": "code",
   "source": [
    "# you can also define indivisual methods for a class\n",
    "class Employee:\n",
    "    def __init__(self,first,last,pay):\n",
    "        self.first=first\n",
    "        self.last=last\n",
    "        self.pay=pay\n",
    "        self.email=first+\".\"+last+\"@company.com\"\n",
    "    def fullname(self):\n",
    "        return f\"{self.first} {self.last}\"\n",
    "    def apply_raise(self):\n",
    "        self.pay=int(self.pay*1.04)"
   ],
   "id": "da09f56eff6ea34d",
   "outputs": [],
   "execution_count": 15
  },
  {
   "metadata": {
    "ExecuteTime": {
     "end_time": "2025-08-05T14:44:22.040222Z",
     "start_time": "2025-08-05T14:44:22.027126Z"
    }
   },
   "cell_type": "code",
   "source": [
    "emp1 = Employee(\"John\",\"Doe\",50000)\n",
    "print(emp1.pay)\n",
    "\n",
    "emp1.apply_raise()\n",
    "print(emp1.pay)\n"
   ],
   "id": "464af07e12318e5b",
   "outputs": [
    {
     "name": "stdout",
     "output_type": "stream",
     "text": [
      "50000\n",
      "52000\n"
     ]
    }
   ],
   "execution_count": 18
  },
  {
   "metadata": {
    "ExecuteTime": {
     "end_time": "2025-08-05T14:31:34.807852Z",
     "start_time": "2025-08-05T14:31:34.793410Z"
    }
   },
   "cell_type": "code",
   "source": "print(emp1.fullname())",
   "id": "70a51411b60e4714",
   "outputs": [
    {
     "name": "stdout",
     "output_type": "stream",
     "text": [
      "John Doe\n"
     ]
    }
   ],
   "execution_count": 10
  },
  {
   "metadata": {},
   "cell_type": "code",
   "outputs": [],
   "execution_count": null,
   "source": "",
   "id": "d15a663fb6d92cad"
  }
 ],
 "metadata": {
  "kernelspec": {
   "display_name": "Python 3",
   "language": "python",
   "name": "python3"
  },
  "language_info": {
   "codemirror_mode": {
    "name": "ipython",
    "version": 2
   },
   "file_extension": ".py",
   "mimetype": "text/x-python",
   "name": "python",
   "nbconvert_exporter": "python",
   "pygments_lexer": "ipython2",
   "version": "2.7.6"
  }
 },
 "nbformat": 4,
 "nbformat_minor": 5
}
