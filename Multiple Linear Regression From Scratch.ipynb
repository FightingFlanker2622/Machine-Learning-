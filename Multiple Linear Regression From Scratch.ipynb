{
 "cells": [
  {
   "cell_type": "code",
   "id": "initial_id",
   "metadata": {
    "collapsed": true,
    "ExecuteTime": {
     "end_time": "2025-08-17T11:06:34.934346Z",
     "start_time": "2025-08-17T11:06:34.921501Z"
    }
   },
   "source": [
    "import numpy as np\n",
    "from sklearn.datasets import load_diabetes"
   ],
   "outputs": [],
   "execution_count": 29
  },
  {
   "metadata": {
    "ExecuteTime": {
     "end_time": "2025-08-17T11:06:35.263286Z",
     "start_time": "2025-08-17T11:06:35.233921Z"
    }
   },
   "cell_type": "code",
   "source": [
    "X,y=load_diabetes(return_X_y=True)\n",
    "X.shape"
   ],
   "id": "2415853a2f8a163b",
   "outputs": [
    {
     "data": {
      "text/plain": [
       "(442, 10)"
      ]
     },
     "execution_count": 30,
     "metadata": {},
     "output_type": "execute_result"
    }
   ],
   "execution_count": 30
  },
  {
   "metadata": {
    "ExecuteTime": {
     "end_time": "2025-08-17T11:06:35.455306Z",
     "start_time": "2025-08-17T11:06:35.442964Z"
    }
   },
   "cell_type": "code",
   "source": "y.shape",
   "id": "c93580093277a9b4",
   "outputs": [
    {
     "data": {
      "text/plain": [
       "(442,)"
      ]
     },
     "execution_count": 31,
     "metadata": {},
     "output_type": "execute_result"
    }
   ],
   "execution_count": 31
  },
  {
   "metadata": {},
   "cell_type": "markdown",
   "source": "# using sklearn LinearRegression",
   "id": "14841df4d67d867c"
  },
  {
   "metadata": {
    "ExecuteTime": {
     "end_time": "2025-08-17T11:06:38.521646Z",
     "start_time": "2025-08-17T11:06:38.508800Z"
    }
   },
   "cell_type": "code",
   "source": [
    "from sklearn.model_selection import train_test_split\n",
    "from sklearn.linear_model import LinearRegression"
   ],
   "id": "628c492937df2276",
   "outputs": [],
   "execution_count": 32
  },
  {
   "metadata": {
    "ExecuteTime": {
     "end_time": "2025-08-17T11:06:38.741026Z",
     "start_time": "2025-08-17T11:06:38.727546Z"
    }
   },
   "cell_type": "code",
   "source": "X_train,X_test,y_train,y_test=train_test_split(X,y,test_size=0.2)",
   "id": "3023b207426573e6",
   "outputs": [],
   "execution_count": 33
  },
  {
   "metadata": {
    "ExecuteTime": {
     "end_time": "2025-08-17T11:06:38.926696Z",
     "start_time": "2025-08-17T11:06:38.914339Z"
    }
   },
   "cell_type": "code",
   "source": [
    "model=LinearRegression()\n",
    "model.fit(X_train,y_train)"
   ],
   "id": "b5b54bc41b5fe9de",
   "outputs": [
    {
     "data": {
      "text/plain": [
       "LinearRegression()"
      ],
      "text/html": [
       "<style>#sk-container-id-3 {\n",
       "  /* Definition of color scheme common for light and dark mode */\n",
       "  --sklearn-color-text: #000;\n",
       "  --sklearn-color-text-muted: #666;\n",
       "  --sklearn-color-line: gray;\n",
       "  /* Definition of color scheme for unfitted estimators */\n",
       "  --sklearn-color-unfitted-level-0: #fff5e6;\n",
       "  --sklearn-color-unfitted-level-1: #f6e4d2;\n",
       "  --sklearn-color-unfitted-level-2: #ffe0b3;\n",
       "  --sklearn-color-unfitted-level-3: chocolate;\n",
       "  /* Definition of color scheme for fitted estimators */\n",
       "  --sklearn-color-fitted-level-0: #f0f8ff;\n",
       "  --sklearn-color-fitted-level-1: #d4ebff;\n",
       "  --sklearn-color-fitted-level-2: #b3dbfd;\n",
       "  --sklearn-color-fitted-level-3: cornflowerblue;\n",
       "\n",
       "  /* Specific color for light theme */\n",
       "  --sklearn-color-text-on-default-background: var(--sg-text-color, var(--theme-code-foreground, var(--jp-content-font-color1, black)));\n",
       "  --sklearn-color-background: var(--sg-background-color, var(--theme-background, var(--jp-layout-color0, white)));\n",
       "  --sklearn-color-border-box: var(--sg-text-color, var(--theme-code-foreground, var(--jp-content-font-color1, black)));\n",
       "  --sklearn-color-icon: #696969;\n",
       "\n",
       "  @media (prefers-color-scheme: dark) {\n",
       "    /* Redefinition of color scheme for dark theme */\n",
       "    --sklearn-color-text-on-default-background: var(--sg-text-color, var(--theme-code-foreground, var(--jp-content-font-color1, white)));\n",
       "    --sklearn-color-background: var(--sg-background-color, var(--theme-background, var(--jp-layout-color0, #111)));\n",
       "    --sklearn-color-border-box: var(--sg-text-color, var(--theme-code-foreground, var(--jp-content-font-color1, white)));\n",
       "    --sklearn-color-icon: #878787;\n",
       "  }\n",
       "}\n",
       "\n",
       "#sk-container-id-3 {\n",
       "  color: var(--sklearn-color-text);\n",
       "}\n",
       "\n",
       "#sk-container-id-3 pre {\n",
       "  padding: 0;\n",
       "}\n",
       "\n",
       "#sk-container-id-3 input.sk-hidden--visually {\n",
       "  border: 0;\n",
       "  clip: rect(1px 1px 1px 1px);\n",
       "  clip: rect(1px, 1px, 1px, 1px);\n",
       "  height: 1px;\n",
       "  margin: -1px;\n",
       "  overflow: hidden;\n",
       "  padding: 0;\n",
       "  position: absolute;\n",
       "  width: 1px;\n",
       "}\n",
       "\n",
       "#sk-container-id-3 div.sk-dashed-wrapped {\n",
       "  border: 1px dashed var(--sklearn-color-line);\n",
       "  margin: 0 0.4em 0.5em 0.4em;\n",
       "  box-sizing: border-box;\n",
       "  padding-bottom: 0.4em;\n",
       "  background-color: var(--sklearn-color-background);\n",
       "}\n",
       "\n",
       "#sk-container-id-3 div.sk-container {\n",
       "  /* jupyter's `normalize.less` sets `[hidden] { display: none; }`\n",
       "     but bootstrap.min.css set `[hidden] { display: none !important; }`\n",
       "     so we also need the `!important` here to be able to override the\n",
       "     default hidden behavior on the sphinx rendered scikit-learn.org.\n",
       "     See: https://github.com/scikit-learn/scikit-learn/issues/21755 */\n",
       "  display: inline-block !important;\n",
       "  position: relative;\n",
       "}\n",
       "\n",
       "#sk-container-id-3 div.sk-text-repr-fallback {\n",
       "  display: none;\n",
       "}\n",
       "\n",
       "div.sk-parallel-item,\n",
       "div.sk-serial,\n",
       "div.sk-item {\n",
       "  /* draw centered vertical line to link estimators */\n",
       "  background-image: linear-gradient(var(--sklearn-color-text-on-default-background), var(--sklearn-color-text-on-default-background));\n",
       "  background-size: 2px 100%;\n",
       "  background-repeat: no-repeat;\n",
       "  background-position: center center;\n",
       "}\n",
       "\n",
       "/* Parallel-specific style estimator block */\n",
       "\n",
       "#sk-container-id-3 div.sk-parallel-item::after {\n",
       "  content: \"\";\n",
       "  width: 100%;\n",
       "  border-bottom: 2px solid var(--sklearn-color-text-on-default-background);\n",
       "  flex-grow: 1;\n",
       "}\n",
       "\n",
       "#sk-container-id-3 div.sk-parallel {\n",
       "  display: flex;\n",
       "  align-items: stretch;\n",
       "  justify-content: center;\n",
       "  background-color: var(--sklearn-color-background);\n",
       "  position: relative;\n",
       "}\n",
       "\n",
       "#sk-container-id-3 div.sk-parallel-item {\n",
       "  display: flex;\n",
       "  flex-direction: column;\n",
       "}\n",
       "\n",
       "#sk-container-id-3 div.sk-parallel-item:first-child::after {\n",
       "  align-self: flex-end;\n",
       "  width: 50%;\n",
       "}\n",
       "\n",
       "#sk-container-id-3 div.sk-parallel-item:last-child::after {\n",
       "  align-self: flex-start;\n",
       "  width: 50%;\n",
       "}\n",
       "\n",
       "#sk-container-id-3 div.sk-parallel-item:only-child::after {\n",
       "  width: 0;\n",
       "}\n",
       "\n",
       "/* Serial-specific style estimator block */\n",
       "\n",
       "#sk-container-id-3 div.sk-serial {\n",
       "  display: flex;\n",
       "  flex-direction: column;\n",
       "  align-items: center;\n",
       "  background-color: var(--sklearn-color-background);\n",
       "  padding-right: 1em;\n",
       "  padding-left: 1em;\n",
       "}\n",
       "\n",
       "\n",
       "/* Toggleable style: style used for estimator/Pipeline/ColumnTransformer box that is\n",
       "clickable and can be expanded/collapsed.\n",
       "- Pipeline and ColumnTransformer use this feature and define the default style\n",
       "- Estimators will overwrite some part of the style using the `sk-estimator` class\n",
       "*/\n",
       "\n",
       "/* Pipeline and ColumnTransformer style (default) */\n",
       "\n",
       "#sk-container-id-3 div.sk-toggleable {\n",
       "  /* Default theme specific background. It is overwritten whether we have a\n",
       "  specific estimator or a Pipeline/ColumnTransformer */\n",
       "  background-color: var(--sklearn-color-background);\n",
       "}\n",
       "\n",
       "/* Toggleable label */\n",
       "#sk-container-id-3 label.sk-toggleable__label {\n",
       "  cursor: pointer;\n",
       "  display: flex;\n",
       "  width: 100%;\n",
       "  margin-bottom: 0;\n",
       "  padding: 0.5em;\n",
       "  box-sizing: border-box;\n",
       "  text-align: center;\n",
       "  align-items: start;\n",
       "  justify-content: space-between;\n",
       "  gap: 0.5em;\n",
       "}\n",
       "\n",
       "#sk-container-id-3 label.sk-toggleable__label .caption {\n",
       "  font-size: 0.6rem;\n",
       "  font-weight: lighter;\n",
       "  color: var(--sklearn-color-text-muted);\n",
       "}\n",
       "\n",
       "#sk-container-id-3 label.sk-toggleable__label-arrow:before {\n",
       "  /* Arrow on the left of the label */\n",
       "  content: \"▸\";\n",
       "  float: left;\n",
       "  margin-right: 0.25em;\n",
       "  color: var(--sklearn-color-icon);\n",
       "}\n",
       "\n",
       "#sk-container-id-3 label.sk-toggleable__label-arrow:hover:before {\n",
       "  color: var(--sklearn-color-text);\n",
       "}\n",
       "\n",
       "/* Toggleable content - dropdown */\n",
       "\n",
       "#sk-container-id-3 div.sk-toggleable__content {\n",
       "  max-height: 0;\n",
       "  max-width: 0;\n",
       "  overflow: hidden;\n",
       "  text-align: left;\n",
       "  /* unfitted */\n",
       "  background-color: var(--sklearn-color-unfitted-level-0);\n",
       "}\n",
       "\n",
       "#sk-container-id-3 div.sk-toggleable__content.fitted {\n",
       "  /* fitted */\n",
       "  background-color: var(--sklearn-color-fitted-level-0);\n",
       "}\n",
       "\n",
       "#sk-container-id-3 div.sk-toggleable__content pre {\n",
       "  margin: 0.2em;\n",
       "  border-radius: 0.25em;\n",
       "  color: var(--sklearn-color-text);\n",
       "  /* unfitted */\n",
       "  background-color: var(--sklearn-color-unfitted-level-0);\n",
       "}\n",
       "\n",
       "#sk-container-id-3 div.sk-toggleable__content.fitted pre {\n",
       "  /* unfitted */\n",
       "  background-color: var(--sklearn-color-fitted-level-0);\n",
       "}\n",
       "\n",
       "#sk-container-id-3 input.sk-toggleable__control:checked~div.sk-toggleable__content {\n",
       "  /* Expand drop-down */\n",
       "  max-height: 200px;\n",
       "  max-width: 100%;\n",
       "  overflow: auto;\n",
       "}\n",
       "\n",
       "#sk-container-id-3 input.sk-toggleable__control:checked~label.sk-toggleable__label-arrow:before {\n",
       "  content: \"▾\";\n",
       "}\n",
       "\n",
       "/* Pipeline/ColumnTransformer-specific style */\n",
       "\n",
       "#sk-container-id-3 div.sk-label input.sk-toggleable__control:checked~label.sk-toggleable__label {\n",
       "  color: var(--sklearn-color-text);\n",
       "  background-color: var(--sklearn-color-unfitted-level-2);\n",
       "}\n",
       "\n",
       "#sk-container-id-3 div.sk-label.fitted input.sk-toggleable__control:checked~label.sk-toggleable__label {\n",
       "  background-color: var(--sklearn-color-fitted-level-2);\n",
       "}\n",
       "\n",
       "/* Estimator-specific style */\n",
       "\n",
       "/* Colorize estimator box */\n",
       "#sk-container-id-3 div.sk-estimator input.sk-toggleable__control:checked~label.sk-toggleable__label {\n",
       "  /* unfitted */\n",
       "  background-color: var(--sklearn-color-unfitted-level-2);\n",
       "}\n",
       "\n",
       "#sk-container-id-3 div.sk-estimator.fitted input.sk-toggleable__control:checked~label.sk-toggleable__label {\n",
       "  /* fitted */\n",
       "  background-color: var(--sklearn-color-fitted-level-2);\n",
       "}\n",
       "\n",
       "#sk-container-id-3 div.sk-label label.sk-toggleable__label,\n",
       "#sk-container-id-3 div.sk-label label {\n",
       "  /* The background is the default theme color */\n",
       "  color: var(--sklearn-color-text-on-default-background);\n",
       "}\n",
       "\n",
       "/* On hover, darken the color of the background */\n",
       "#sk-container-id-3 div.sk-label:hover label.sk-toggleable__label {\n",
       "  color: var(--sklearn-color-text);\n",
       "  background-color: var(--sklearn-color-unfitted-level-2);\n",
       "}\n",
       "\n",
       "/* Label box, darken color on hover, fitted */\n",
       "#sk-container-id-3 div.sk-label.fitted:hover label.sk-toggleable__label.fitted {\n",
       "  color: var(--sklearn-color-text);\n",
       "  background-color: var(--sklearn-color-fitted-level-2);\n",
       "}\n",
       "\n",
       "/* Estimator label */\n",
       "\n",
       "#sk-container-id-3 div.sk-label label {\n",
       "  font-family: monospace;\n",
       "  font-weight: bold;\n",
       "  display: inline-block;\n",
       "  line-height: 1.2em;\n",
       "}\n",
       "\n",
       "#sk-container-id-3 div.sk-label-container {\n",
       "  text-align: center;\n",
       "}\n",
       "\n",
       "/* Estimator-specific */\n",
       "#sk-container-id-3 div.sk-estimator {\n",
       "  font-family: monospace;\n",
       "  border: 1px dotted var(--sklearn-color-border-box);\n",
       "  border-radius: 0.25em;\n",
       "  box-sizing: border-box;\n",
       "  margin-bottom: 0.5em;\n",
       "  /* unfitted */\n",
       "  background-color: var(--sklearn-color-unfitted-level-0);\n",
       "}\n",
       "\n",
       "#sk-container-id-3 div.sk-estimator.fitted {\n",
       "  /* fitted */\n",
       "  background-color: var(--sklearn-color-fitted-level-0);\n",
       "}\n",
       "\n",
       "/* on hover */\n",
       "#sk-container-id-3 div.sk-estimator:hover {\n",
       "  /* unfitted */\n",
       "  background-color: var(--sklearn-color-unfitted-level-2);\n",
       "}\n",
       "\n",
       "#sk-container-id-3 div.sk-estimator.fitted:hover {\n",
       "  /* fitted */\n",
       "  background-color: var(--sklearn-color-fitted-level-2);\n",
       "}\n",
       "\n",
       "/* Specification for estimator info (e.g. \"i\" and \"?\") */\n",
       "\n",
       "/* Common style for \"i\" and \"?\" */\n",
       "\n",
       ".sk-estimator-doc-link,\n",
       "a:link.sk-estimator-doc-link,\n",
       "a:visited.sk-estimator-doc-link {\n",
       "  float: right;\n",
       "  font-size: smaller;\n",
       "  line-height: 1em;\n",
       "  font-family: monospace;\n",
       "  background-color: var(--sklearn-color-background);\n",
       "  border-radius: 1em;\n",
       "  height: 1em;\n",
       "  width: 1em;\n",
       "  text-decoration: none !important;\n",
       "  margin-left: 0.5em;\n",
       "  text-align: center;\n",
       "  /* unfitted */\n",
       "  border: var(--sklearn-color-unfitted-level-1) 1pt solid;\n",
       "  color: var(--sklearn-color-unfitted-level-1);\n",
       "}\n",
       "\n",
       ".sk-estimator-doc-link.fitted,\n",
       "a:link.sk-estimator-doc-link.fitted,\n",
       "a:visited.sk-estimator-doc-link.fitted {\n",
       "  /* fitted */\n",
       "  border: var(--sklearn-color-fitted-level-1) 1pt solid;\n",
       "  color: var(--sklearn-color-fitted-level-1);\n",
       "}\n",
       "\n",
       "/* On hover */\n",
       "div.sk-estimator:hover .sk-estimator-doc-link:hover,\n",
       ".sk-estimator-doc-link:hover,\n",
       "div.sk-label-container:hover .sk-estimator-doc-link:hover,\n",
       ".sk-estimator-doc-link:hover {\n",
       "  /* unfitted */\n",
       "  background-color: var(--sklearn-color-unfitted-level-3);\n",
       "  color: var(--sklearn-color-background);\n",
       "  text-decoration: none;\n",
       "}\n",
       "\n",
       "div.sk-estimator.fitted:hover .sk-estimator-doc-link.fitted:hover,\n",
       ".sk-estimator-doc-link.fitted:hover,\n",
       "div.sk-label-container:hover .sk-estimator-doc-link.fitted:hover,\n",
       ".sk-estimator-doc-link.fitted:hover {\n",
       "  /* fitted */\n",
       "  background-color: var(--sklearn-color-fitted-level-3);\n",
       "  color: var(--sklearn-color-background);\n",
       "  text-decoration: none;\n",
       "}\n",
       "\n",
       "/* Span, style for the box shown on hovering the info icon */\n",
       ".sk-estimator-doc-link span {\n",
       "  display: none;\n",
       "  z-index: 9999;\n",
       "  position: relative;\n",
       "  font-weight: normal;\n",
       "  right: .2ex;\n",
       "  padding: .5ex;\n",
       "  margin: .5ex;\n",
       "  width: min-content;\n",
       "  min-width: 20ex;\n",
       "  max-width: 50ex;\n",
       "  color: var(--sklearn-color-text);\n",
       "  box-shadow: 2pt 2pt 4pt #999;\n",
       "  /* unfitted */\n",
       "  background: var(--sklearn-color-unfitted-level-0);\n",
       "  border: .5pt solid var(--sklearn-color-unfitted-level-3);\n",
       "}\n",
       "\n",
       ".sk-estimator-doc-link.fitted span {\n",
       "  /* fitted */\n",
       "  background: var(--sklearn-color-fitted-level-0);\n",
       "  border: var(--sklearn-color-fitted-level-3);\n",
       "}\n",
       "\n",
       ".sk-estimator-doc-link:hover span {\n",
       "  display: block;\n",
       "}\n",
       "\n",
       "/* \"?\"-specific style due to the `<a>` HTML tag */\n",
       "\n",
       "#sk-container-id-3 a.estimator_doc_link {\n",
       "  float: right;\n",
       "  font-size: 1rem;\n",
       "  line-height: 1em;\n",
       "  font-family: monospace;\n",
       "  background-color: var(--sklearn-color-background);\n",
       "  border-radius: 1rem;\n",
       "  height: 1rem;\n",
       "  width: 1rem;\n",
       "  text-decoration: none;\n",
       "  /* unfitted */\n",
       "  color: var(--sklearn-color-unfitted-level-1);\n",
       "  border: var(--sklearn-color-unfitted-level-1) 1pt solid;\n",
       "}\n",
       "\n",
       "#sk-container-id-3 a.estimator_doc_link.fitted {\n",
       "  /* fitted */\n",
       "  border: var(--sklearn-color-fitted-level-1) 1pt solid;\n",
       "  color: var(--sklearn-color-fitted-level-1);\n",
       "}\n",
       "\n",
       "/* On hover */\n",
       "#sk-container-id-3 a.estimator_doc_link:hover {\n",
       "  /* unfitted */\n",
       "  background-color: var(--sklearn-color-unfitted-level-3);\n",
       "  color: var(--sklearn-color-background);\n",
       "  text-decoration: none;\n",
       "}\n",
       "\n",
       "#sk-container-id-3 a.estimator_doc_link.fitted:hover {\n",
       "  /* fitted */\n",
       "  background-color: var(--sklearn-color-fitted-level-3);\n",
       "}\n",
       "</style><div id=\"sk-container-id-3\" class=\"sk-top-container\"><div class=\"sk-text-repr-fallback\"><pre>LinearRegression()</pre><b>In a Jupyter environment, please rerun this cell to show the HTML representation or trust the notebook. <br />On GitHub, the HTML representation is unable to render, please try loading this page with nbviewer.org.</b></div><div class=\"sk-container\" hidden><div class=\"sk-item\"><div class=\"sk-estimator fitted sk-toggleable\"><input class=\"sk-toggleable__control sk-hidden--visually\" id=\"sk-estimator-id-3\" type=\"checkbox\" checked><label for=\"sk-estimator-id-3\" class=\"sk-toggleable__label fitted sk-toggleable__label-arrow\"><div><div>LinearRegression</div></div><div><a class=\"sk-estimator-doc-link fitted\" rel=\"noreferrer\" target=\"_blank\" href=\"https://scikit-learn.org/1.6/modules/generated/sklearn.linear_model.LinearRegression.html\">?<span>Documentation for LinearRegression</span></a><span class=\"sk-estimator-doc-link fitted\">i<span>Fitted</span></span></div></label><div class=\"sk-toggleable__content fitted\"><pre>LinearRegression()</pre></div> </div></div></div></div>"
      ]
     },
     "execution_count": 34,
     "metadata": {},
     "output_type": "execute_result"
    }
   ],
   "execution_count": 34
  },
  {
   "metadata": {
    "ExecuteTime": {
     "end_time": "2025-08-17T11:06:39.081309Z",
     "start_time": "2025-08-17T11:06:39.069881Z"
    }
   },
   "cell_type": "code",
   "source": "model.predict(X_test)",
   "id": "d9fe5136309ada00",
   "outputs": [
    {
     "data": {
      "text/plain": [
       "array([147.31378366, 134.8055264 ,  60.46184987, 155.06039239,\n",
       "        73.37575811, 123.03940644, 188.72963279,  69.95248962,\n",
       "        99.9343472 , 119.39950869, 224.17242185, 181.9774137 ,\n",
       "        98.40216392,  92.53207427, 120.61217603, 152.18930744,\n",
       "       119.7910676 , 204.66669619, 124.11238129, 162.19342648,\n",
       "       126.08343682, 108.57180238, 147.82695002, 112.11996921,\n",
       "       104.41961837, 231.60382343, 128.82403294, 254.98006106,\n",
       "       100.87454433, 112.49017531, 160.55665635, 206.60046817,\n",
       "       104.17543875, 106.3711876 ,  97.32716877,  85.12513989,\n",
       "       124.49328356, 145.41340467, 231.22055672, 232.05326898,\n",
       "       242.96549896, 158.91475276, 147.99652003, 198.6216418 ,\n",
       "       200.85600529,  93.54483659,  73.50236459, 195.27004709,\n",
       "        51.64051274, 248.25925803, 117.45234508, 208.02203894,\n",
       "       250.94831906, 112.10399782, 158.34347112, 105.48723914,\n",
       "       118.7440455 , 242.91953895, 144.20804009, 141.2701339 ,\n",
       "        79.93701579, 149.47446683, 136.67801611, 145.6490809 ,\n",
       "       174.20878469, 193.76597929, 236.04523356, 150.25978971,\n",
       "       182.33548165, 173.26756103, 128.94834626, 169.01399014,\n",
       "       175.2371875 , 164.55807517,  74.52378316,  97.74721075,\n",
       "        33.86965108, 208.88836207, 164.16893135,  79.33955941,\n",
       "       161.80090693, 127.08923224,  73.8118085 , 213.20403229,\n",
       "       223.30601556, 147.39629588,  77.79399398,  64.98697639,\n",
       "       156.06578584])"
      ]
     },
     "execution_count": 35,
     "metadata": {},
     "output_type": "execute_result"
    }
   ],
   "execution_count": 35
  },
  {
   "metadata": {
    "ExecuteTime": {
     "end_time": "2025-08-17T11:06:41.844205Z",
     "start_time": "2025-08-17T11:06:41.833142Z"
    }
   },
   "cell_type": "code",
   "source": [
    "from sklearn.metrics import r2_score\n",
    "r2_score(y_test,model.predict(X_test))"
   ],
   "id": "50faeea7d81d9b6a",
   "outputs": [
    {
     "data": {
      "text/plain": [
       "0.4187017514936212"
      ]
     },
     "execution_count": 36,
     "metadata": {},
     "output_type": "execute_result"
    }
   ],
   "execution_count": 36
  },
  {
   "metadata": {
    "ExecuteTime": {
     "end_time": "2025-08-17T11:06:43.437799Z",
     "start_time": "2025-08-17T11:06:43.406876Z"
    }
   },
   "cell_type": "code",
   "source": "model.coef_",
   "id": "1681f82e5fb31ed5",
   "outputs": [
    {
     "data": {
      "text/plain": [
       "array([ -46.1469254 , -282.16245429,  504.43123184,  334.76026948,\n",
       "       -553.4933679 ,  313.6723072 ,  -42.43395447,   99.04361604,\n",
       "        679.16992502,  113.99228359])"
      ]
     },
     "execution_count": 37,
     "metadata": {},
     "output_type": "execute_result"
    }
   ],
   "execution_count": 37
  },
  {
   "metadata": {
    "ExecuteTime": {
     "end_time": "2025-08-17T11:14:16.151531Z",
     "start_time": "2025-08-17T11:14:16.142809Z"
    }
   },
   "cell_type": "code",
   "source": "X_train=np.insert(X_train,0,1,axis=1)",
   "id": "5eba95b775233259",
   "outputs": [],
   "execution_count": 50
  },
  {
   "metadata": {
    "ExecuteTime": {
     "end_time": "2025-08-17T11:14:27.767796Z",
     "start_time": "2025-08-17T11:14:27.755296Z"
    }
   },
   "cell_type": "code",
   "source": "X_train",
   "id": "5d9d581954f5d93f",
   "outputs": [
    {
     "data": {
      "text/plain": [
       "array([[ 1.        ,  0.08529891,  0.05068012, ..., -0.00259226,\n",
       "         0.00286131, -0.02593034],\n",
       "       [ 1.        , -0.05637009,  0.05068012, ..., -0.03949338,\n",
       "        -0.07813994, -0.10463037],\n",
       "       [ 1.        , -0.0854304 ,  0.05068012, ..., -0.03949338,\n",
       "        -0.05780303, -0.04249877],\n",
       "       ...,\n",
       "       [ 1.        , -0.02730979,  0.05068012, ..., -0.03949338,\n",
       "        -0.00514219, -0.05078298],\n",
       "       [ 1.        , -0.02367725, -0.04464164, ...,  0.03430886,\n",
       "         0.0140735 , -0.00936191],\n",
       "       [ 1.        , -0.00188202, -0.04464164, ..., -0.03949338,\n",
       "        -0.06833155, -0.09220405]])"
      ]
     },
     "execution_count": 51,
     "metadata": {},
     "output_type": "execute_result"
    }
   ],
   "execution_count": 51
  },
  {
   "metadata": {},
   "cell_type": "markdown",
   "source": "# Making our own Linear Regression",
   "id": "a58483c1e238aa78"
  },
  {
   "metadata": {
    "ExecuteTime": {
     "end_time": "2025-08-17T11:14:42.289689Z",
     "start_time": "2025-08-17T11:14:42.276355Z"
    }
   },
   "cell_type": "code",
   "source": [
    "# abhi we  have that m+1 waali cheez that mean 1  hai\n",
    "X_train"
   ],
   "id": "93adebf731537fa4",
   "outputs": [
    {
     "data": {
      "text/plain": [
       "array([[ 1.        ,  0.08529891,  0.05068012, ..., -0.00259226,\n",
       "         0.00286131, -0.02593034],\n",
       "       [ 1.        , -0.05637009,  0.05068012, ..., -0.03949338,\n",
       "        -0.07813994, -0.10463037],\n",
       "       [ 1.        , -0.0854304 ,  0.05068012, ..., -0.03949338,\n",
       "        -0.05780303, -0.04249877],\n",
       "       ...,\n",
       "       [ 1.        , -0.02730979,  0.05068012, ..., -0.03949338,\n",
       "        -0.00514219, -0.05078298],\n",
       "       [ 1.        , -0.02367725, -0.04464164, ...,  0.03430886,\n",
       "         0.0140735 , -0.00936191],\n",
       "       [ 1.        , -0.00188202, -0.04464164, ..., -0.03949338,\n",
       "        -0.06833155, -0.09220405]])"
      ]
     },
     "execution_count": 52,
     "metadata": {},
     "output_type": "execute_result"
    }
   ],
   "execution_count": 52
  },
  {
   "metadata": {
    "ExecuteTime": {
     "end_time": "2025-08-17T11:20:26.846455Z",
     "start_time": "2025-08-17T11:20:26.833187Z"
    }
   },
   "cell_type": "code",
   "source": [
    "class MultipleLinearRegression:\n",
    "    def __init__(self):\n",
    "        self.coef_=None\n",
    "        self.intercept_=None\n",
    "    def fit(self,X_train,y_train):\n",
    "        '''use np.linalg.inv() to find inverse'''\n",
    "        self.coef_=np.linalg.inv(X_train.T.dot(X_train)).dot(X_train.T).dot(y_train)\n",
    "        self.intercept_=self.coef_[0]\n",
    "        print(self.intercept_,end='\\n')\n",
    "        self.coef_=np.delete(self.coef_,0)\n",
    "        print(self.coef_ , end='\\n')\n",
    "\n",
    "    def predict(self,X_test):\n",
    "       y_pred=self.intercept_ + np.dot(X_test,self.coef_)\n",
    "       return y_pred\n"
   ],
   "id": "c88569cbffcaee2",
   "outputs": [],
   "execution_count": 58
  },
  {
   "metadata": {
    "ExecuteTime": {
     "end_time": "2025-08-17T11:20:28.027847Z",
     "start_time": "2025-08-17T11:20:28.018917Z"
    }
   },
   "cell_type": "code",
   "source": [
    "obj=MultipleLinearRegression()\n",
    "obj.fit(X_train,y_train)\n",
    "obj.predict(X_test)\n",
    "# the first one is intercept"
   ],
   "id": "5934845d4f2866cc",
   "outputs": [
    {
     "name": "stdout",
     "output_type": "stream",
     "text": [
      "151.48483025528574\n",
      "[ -46.1469254  -282.16245429  504.43123184  334.76026948 -553.4933679\n",
      "  313.6723072   -42.43395447   99.04361604  679.16992502  113.99228359]\n"
     ]
    },
    {
     "data": {
      "text/plain": [
       "array([147.31378366, 134.8055264 ,  60.46184987, 155.06039239,\n",
       "        73.37575811, 123.03940644, 188.72963279,  69.95248962,\n",
       "        99.9343472 , 119.39950869, 224.17242185, 181.9774137 ,\n",
       "        98.40216392,  92.53207427, 120.61217603, 152.18930744,\n",
       "       119.7910676 , 204.66669619, 124.11238129, 162.19342648,\n",
       "       126.08343682, 108.57180238, 147.82695002, 112.11996921,\n",
       "       104.41961837, 231.60382343, 128.82403294, 254.98006106,\n",
       "       100.87454433, 112.49017531, 160.55665635, 206.60046817,\n",
       "       104.17543875, 106.3711876 ,  97.32716877,  85.12513989,\n",
       "       124.49328356, 145.41340467, 231.22055672, 232.05326898,\n",
       "       242.96549896, 158.91475276, 147.99652003, 198.6216418 ,\n",
       "       200.85600529,  93.54483659,  73.50236459, 195.27004709,\n",
       "        51.64051274, 248.25925803, 117.45234508, 208.02203894,\n",
       "       250.94831906, 112.10399782, 158.34347112, 105.48723914,\n",
       "       118.7440455 , 242.91953895, 144.20804009, 141.2701339 ,\n",
       "        79.93701579, 149.47446683, 136.67801611, 145.6490809 ,\n",
       "       174.20878469, 193.76597929, 236.04523356, 150.25978971,\n",
       "       182.33548165, 173.26756103, 128.94834626, 169.01399014,\n",
       "       175.2371875 , 164.55807517,  74.52378316,  97.74721075,\n",
       "        33.86965108, 208.88836207, 164.16893135,  79.33955941,\n",
       "       161.80090693, 127.08923224,  73.8118085 , 213.20403229,\n",
       "       223.30601556, 147.39629588,  77.79399398,  64.98697639,\n",
       "       156.06578584])"
      ]
     },
     "execution_count": 59,
     "metadata": {},
     "output_type": "execute_result"
    }
   ],
   "execution_count": 59
  },
  {
   "metadata": {
    "ExecuteTime": {
     "end_time": "2025-08-17T11:23:29.414589Z",
     "start_time": "2025-08-17T11:23:29.397954Z"
    }
   },
   "cell_type": "code",
   "source": "r2_score(y_test,obj.predict(X_test))",
   "id": "4cac8994b9881262",
   "outputs": [
    {
     "data": {
      "text/plain": [
       "0.41870175149362154"
      ]
     },
     "execution_count": 61,
     "metadata": {},
     "output_type": "execute_result"
    }
   ],
   "execution_count": 61
  },
  {
   "metadata": {
    "ExecuteTime": {
     "end_time": "2025-08-17T11:25:00.958161Z",
     "start_time": "2025-08-17T11:25:00.945743Z"
    }
   },
   "cell_type": "code",
   "source": "model.coef_",
   "id": "60d4ece4271d150c",
   "outputs": [
    {
     "data": {
      "text/plain": [
       "array([ -46.1469254 , -282.16245429,  504.43123184,  334.76026948,\n",
       "       -553.4933679 ,  313.6723072 ,  -42.43395447,   99.04361604,\n",
       "        679.16992502,  113.99228359])"
      ]
     },
     "execution_count": 62,
     "metadata": {},
     "output_type": "execute_result"
    }
   ],
   "execution_count": 62
  },
  {
   "metadata": {
    "ExecuteTime": {
     "end_time": "2025-08-17T11:25:15.377969Z",
     "start_time": "2025-08-17T11:25:15.361908Z"
    }
   },
   "cell_type": "code",
   "source": "model.intercept_",
   "id": "592fb5cf1afdeb52",
   "outputs": [
    {
     "data": {
      "text/plain": [
       "np.float64(151.4848302552857)"
      ]
     },
     "execution_count": 63,
     "metadata": {},
     "output_type": "execute_result"
    }
   ],
   "execution_count": 63
  },
  {
   "metadata": {},
   "cell_type": "code",
   "outputs": [],
   "execution_count": null,
   "source": "",
   "id": "9ec63627a2262b36"
  }
 ],
 "metadata": {
  "kernelspec": {
   "display_name": "Python 3",
   "language": "python",
   "name": "python3"
  },
  "language_info": {
   "codemirror_mode": {
    "name": "ipython",
    "version": 2
   },
   "file_extension": ".py",
   "mimetype": "text/x-python",
   "name": "python",
   "nbconvert_exporter": "python",
   "pygments_lexer": "ipython2",
   "version": "2.7.6"
  }
 },
 "nbformat": 4,
 "nbformat_minor": 5
}
